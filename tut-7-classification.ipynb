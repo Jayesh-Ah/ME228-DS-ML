{
 "cells": [
  {
   "cell_type": "raw",
   "id": "a512834e",
   "metadata": {
    "_cell_guid": "b1076dfc-b9ad-4769-8c92-a6c4dae69d19",
    "_uuid": "8f2839f25d086af736a60e9eeb907d3b93b6e0e5",
    "papermill": {
     "duration": 0.002741,
     "end_time": "2024-04-28T11:48:08.802068",
     "exception": false,
     "start_time": "2024-04-28T11:48:08.799327",
     "status": "completed"
    },
    "tags": []
   },
   "source": [
    "# This Python 3 environment comes with many helpful analytics libraries installed\n",
    "# It is defined by the kaggle/python Docker image: https://github.com/kaggle/docker-python\n",
    "# For example, here's several helpful packages to load\n",
    "\n",
    "import numpy as np # linear algebra\n",
    "import pandas as pd # data processing, CSV file I/O (e.g. pd.read_csv)\n",
    "\n",
    "# Input data files are available in the read-only \"../input/\" directory\n",
    "# For example, running this (by clicking run or pressing Shift+Enter) will list all files under the input directory\n",
    "\n",
    "import os\n",
    "for dirname, _, filenames in os.walk('/kaggle/input'):\n",
    "    for filename in filenames:\n",
    "        print(os.path.join(dirname, filename))\n",
    "\n",
    "# You can write up to 20GB to the current directory (/kaggle/working/) that gets preserved as output when you create a version using \"Save & Run All\" \n",
    "# You can also write temporary files to /kaggle/temp/, but they won't be saved outside of the current session"
   ]
  },
  {
   "cell_type": "code",
   "execution_count": null,
   "id": "9080ae1e",
   "metadata": {
    "papermill": {
     "duration": 0.001659,
     "end_time": "2024-04-28T11:48:08.806083",
     "exception": false,
     "start_time": "2024-04-28T11:48:08.804424",
     "status": "completed"
    },
    "tags": []
   },
   "outputs": [],
   "source": []
  }
 ],
 "metadata": {
  "kaggle": {
   "accelerator": "none",
   "dataSources": [],
   "dockerImageVersionId": 30698,
   "isGpuEnabled": false,
   "isInternetEnabled": false,
   "language": "python",
   "sourceType": "notebook"
  },
  "kernelspec": {
   "display_name": "Python 3",
   "language": "python",
   "name": "python3"
  },
  "language_info": {
   "codemirror_mode": {
    "name": "ipython",
    "version": 3
   },
   "file_extension": ".py",
   "mimetype": "text/x-python",
   "name": "python",
   "nbconvert_exporter": "python",
   "pygments_lexer": "ipython3",
   "version": "3.10.13"
  },
  "papermill": {
   "default_parameters": {},
   "duration": 3.480915,
   "end_time": "2024-04-28T11:48:09.227670",
   "environment_variables": {},
   "exception": null,
   "input_path": "__notebook__.ipynb",
   "output_path": "__notebook__.ipynb",
   "parameters": {},
   "start_time": "2024-04-28T11:48:05.746755",
   "version": "2.5.0"
  }
 },
 "nbformat": 4,
 "nbformat_minor": 5
},
{
   "cell_type": "markdown",
   "metadata": {},
   "source": [
    "#### Problem 3.13\n",
    "\n",
    "* (a) Suppose $x$ has a dimension of $d$, when we convert to classification problem, the new $x_{class}$ has a dimension of $d+1$, with $y$ in the extra dimension. So the classification problem has $d+2$ weights, where we count the weight for constant. \n",
    "  On the other hand, the linear regression needs only $d+1$ weights. \n",
    "  \n",
    "* (b) The linear fit wegiths $w$, where $h(x) = w^Tx$. The weights of solving the classification is $w_{class} = (w^c_0, w^c_1, \\dots, w^c_d, w^c_{d+1})$, where $w^c_{d+1}$ is the weight corresponding to the original $y$s. Since it solves the classification problem, it defines the line that separting the points, i.e. $w_{class}^T\\hat{x} = 0$, where $\\hat{x} = \\begin{bmatrix}x\\\\y\\end{bmatrix}$, so we have\n",
    "\n",
    "\\begin{align*}\n",
    "w_{class}^T\\hat{x} &= w_{class}^T\\begin{bmatrix}x\\\\y\\end{bmatrix}\\\\\n",
    "&= \\begin{bmatrix}w^c & w^c_{d+1}\\end{bmatrix} \\begin{bmatrix}x\\\\y\\end{bmatrix}\\\\\n",
    "&= (w^c)^Tx + w^c_{d+1}y \\\\\n",
    "&= 0\n",
    "\\end{align*}\n",
    "\n",
    "  Move $y$ to the left hand side of the equation, and divide both sides by $w^c_{d+1}$, we have $y = -(w^c)^T x / w^c_{d+1}$, so the linear regression weights $w = -\\frac{(w^c)^T}{w^c_{d+1}}$."
   ]
  },
  {
   "cell_type": "code",
   "execution_count": 54,
   "metadata": {},
   "outputs": [
    {
     "name": "stdout",
     "output_type": "stream",
     "text": [
      "Liner regression coefficients:  [[-0.18553388]\n",
      " [ 1.01062413]]\n"
     ]
    },
    {
     "data": {
      "image/png": "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\n",
      "text/plain": [
       "<Figure size 288x288 with 1 Axes>"
      ]
     },
     "metadata": {
      "needs_background": "light"
     },
     "output_type": "display_data"
    }
   ],
   "source": [
    "#### Problem 3.13 (c) (d)\n",
    "import libs.linear_models as lm\n",
    "import libs.data_util as data\n",
    "\n",
    "N = 50\n",
    "sigma = 0.1\n",
    "dim = 1\n",
    "mu = 0\n",
    "gaussian_sigma = 1\n",
    "delta = np.array([0, 0.1])\n",
    "\n",
    "def generate_y(x, sigma, epsilons):\n",
    "    y = x**2 + sigma * epsilons\n",
    "    return y\n",
    "\n",
    "def move_data(xys, delta):\n",
    "    return xys + delta, xys - delta\n",
    "    \n",
    "xs = data.generate_random_numbers01(N, dim, 1000) #uniform on [0,1]\n",
    "epsilons = np.random.normal(mu, gaussian_sigma, N)\n",
    "ys = generate_y(xs, sigma, epsilons.reshape(-1, 1))\n",
    "xys = np.hstack([xs, ys])\n",
    "dps, dms = move_data(xys, delta)\n",
    "df1 = pd.DataFrame({'x0':np.ones(N)})\n",
    "df1['x1'] = dps[:,0]\n",
    "df1['x2'] = dps[:,1]\n",
    "df1['y'] = 1\n",
    "\n",
    "df2 = pd.DataFrame({'x0':np.ones(N)})\n",
    "df2['x1'] = dms[:,0]\n",
    "df2['x2'] = dms[:,1]\n",
    "df2['y'] = -1\n",
    "df = pd.concat([df1,df2])\n",
    "\n",
    "figsize = plt.figaspect(1)\n",
    "f, ax = plt.subplots(1, 1, figsize=figsize)\n",
    "\n",
    "original_points = ax.scatter(xs, ys, marker='o', c= 'y', label='Original Points')\n",
    "ps = ax.scatter(dps[:,0], dps[:, 1], marker='+', c= 'b', label='+1 labels')\n",
    "ns = ax.scatter(dms[:,0], dms[:, 1], marker=r'$-$', c= 'r', label='-1 labels')\n",
    "\n",
    "x1 = np.arange(0,1,0.01)\n",
    "x1s = np.zeros((xs.shape[0], xs.shape[1]+1))\n",
    "x1s[:, 0] = 1\n",
    "x1s[:, 1] = xs.flatten()\n",
    "\n",
    "w_lin = lm.linear_regression(x1s, ys)\n",
    "print('Liner regression coefficients: ', w_lin)\n",
    "linear = ax.plot(x1, (w_lin[0]+w_lin[1]*x1), c = 'r', label='Linear Regression')\n",
    "\n",
    "\n",
    "maxit = 1000\n",
    "eta = 0.5\n",
    "randomized = False\n",
    "print_out = False\n",
    "w_pocket, w_ts, what_ts, test_w_ts, test_what_ts, _ = lm.pocket_algo(df.values, 2, \n",
    "                                                           maxit,eta, randomized, \n",
    "                                                           print_out, None)\n",
    "\n",
    "\n",
    "linear_pocket = ax.plot(x1, -(w_pocket[0]+w_pocket[1]*x1), c = 'g', label='Pocket Classification')\n",
    "\n",
    "\n",
    "\n",
    "ax.set_ylabel(r\"$x_2$\", fontsize=11)\n",
    "ax.set_xlabel(r\"$x_1$\", fontsize=11)\n",
    "ax.set_title('Data set size = %s'%N, fontsize=9)\n",
    "ax.axis('tight')\n",
    "legend_x = 2.0\n",
    "legend_y = 0.5\n",
    "ax.legend(['Linear Regression', 'Pocket Classification', 'Original Points',\n",
    "           '+1 labels', '-1 labels', ], \n",
    "          loc='center right', bbox_to_anchor=(legend_x, legend_y))\n",
    "#ax.set_ylim(bottom=lb, top=ub)\n",
    "plt.show()"
   ]
  },
  {
   "cell_type": "markdown",
   "metadata": {},
   "source": [
    "#### Problem 3.13 (d)\n",
    "From above graph, we can see that the classification line sometimes can be close to the linear regression line in this case. However, as the $a$ increases, clearly the classification will a worse job. Even when $a$ is not so big, the classification's job is to separate the points, but this is not necessarily along the line that fit the original data. It can be a good start point for linear regression though."
   ]
  },

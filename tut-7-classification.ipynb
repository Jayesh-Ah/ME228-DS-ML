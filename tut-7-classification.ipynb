{
 "cells": [
  {
   "cell_type": "raw",
   "id": "a512834e",
   "metadata": {
    "_cell_guid": "b1076dfc-b9ad-4769-8c92-a6c4dae69d19",
    "_uuid": "8f2839f25d086af736a60e9eeb907d3b93b6e0e5",
    "papermill": {
     "duration": 0.002741,
     "end_time": "2024-04-28T11:48:08.802068",
     "exception": false,
     "start_time": "2024-04-28T11:48:08.799327",
     "status": "completed"
    },
    "tags": []
   },
   "source": [
    "# This Python 3 environment comes with many helpful analytics libraries installed\n",
    "# It is defined by the kaggle/python Docker image: https://github.com/kaggle/docker-python\n",
    "# For example, here's several helpful packages to load\n",
    "\n",
    "import numpy as np # linear algebra\n",
    "import pandas as pd # data processing, CSV file I/O (e.g. pd.read_csv)\n",
    "\n",
    "# Input data files are available in the read-only \"../input/\" directory\n",
    "# For example, running this (by clicking run or pressing Shift+Enter) will list all files under the input directory\n",
    "\n",
    "import os\n",
    "for dirname, _, filenames in os.walk('/kaggle/input'):\n",
    "    for filename in filenames:\n",
    "        print(os.path.join(dirname, filename))\n",
    "\n",
    "# You can write up to 20GB to the current directory (/kaggle/working/) that gets preserved as output when you create a version using \"Save & Run All\" \n",
    "# You can also write temporary files to /kaggle/temp/, but they won't be saved outside of the current session"
   ]
  },
  {
   "cell_type": "code",
   "execution_count": null,
   "id": "9080ae1e",
   "metadata": {
    "papermill": {
     "duration": 0.001659,
     "end_time": "2024-04-28T11:48:08.806083",
     "exception": false,
     "start_time": "2024-04-28T11:48:08.804424",
     "status": "completed"
    },
    "tags": []
   },
   "outputs": [],
   "source": []
  }
 ],
 "metadata": {
  "kaggle": {
   "accelerator": "none",
   "dataSources": [],
   "dockerImageVersionId": 30698,
   "isGpuEnabled": false,
   "isInternetEnabled": false,
   "language": "python",
   "sourceType": "notebook"
  },
  "kernelspec": {
   "display_name": "Python 3",
   "language": "python",
   "name": "python3"
  },
  "language_info": {
   "codemirror_mode": {
    "name": "ipython",
    "version": 3
   },
   "file_extension": ".py",
   "mimetype": "text/x-python",
   "name": "python",
   "nbconvert_exporter": "python",
   "pygments_lexer": "ipython3",
   "version": "3.10.13"
  },
  "papermill": {
   "default_parameters": {},
   "duration": 3.480915,
   "end_time": "2024-04-28T11:48:09.227670",
   "environment_variables": {},
   "exception": null,
   "input_path": "__notebook__.ipynb",
   "output_path": "__notebook__.ipynb",
   "parameters": {},
   "start_time": "2024-04-28T11:48:05.746755",
   "version": "2.5.0"
  }
 },
 "nbformat": 4,
 "nbformat_minor": 5
},
{
   "cell_type": "markdown",
   "metadata": {},
   "source": [
    "#### Problem 3.13\n",
    "\n",
    "* (a) Suppose $x$ has a dimension of $d$, when we convert to classification problem, the new $x_{class}$ has a dimension of $d+1$, with $y$ in the extra dimension. So the classification problem has $d+2$ weights, where we count the weight for constant. \n",
    "  On the other hand, the linear regression needs only $d+1$ weights. \n",
    "  \n",
    "* (b) The linear fit wegiths $w$, where $h(x) = w^Tx$. The weights of solving the classification is $w_{class} = (w^c_0, w^c_1, \\dots, w^c_d, w^c_{d+1})$, where $w^c_{d+1}$ is the weight corresponding to the original $y$s. Since it solves the classification problem, it defines the line that separting the points, i.e. $w_{class}^T\\hat{x} = 0$, where $\\hat{x} = \\begin{bmatrix}x\\\\y\\end{bmatrix}$, so we have\n",
    "\n",
    "\\begin{align*}\n",
    "w_{class}^T\\hat{x} &= w_{class}^T\\begin{bmatrix}x\\\\y\\end{bmatrix}\\\\\n",
    "&= \\begin{bmatrix}w^c & w^c_{d+1}\\end{bmatrix} \\begin{bmatrix}x\\\\y\\end{bmatrix}\\\\\n",
    "&= (w^c)^Tx + w^c_{d+1}y \\\\\n",
    "&= 0\n",
    "\\end{align*}\n",
    "\n",
    "  Move $y$ to the left hand side of the equation, and divide both sides by $w^c_{d+1}$, we have $y = -(w^c)^T x / w^c_{d+1}$, so the linear regression weights $w = -\\frac{(w^c)^T}{w^c_{d+1}}$."
   ]
  }

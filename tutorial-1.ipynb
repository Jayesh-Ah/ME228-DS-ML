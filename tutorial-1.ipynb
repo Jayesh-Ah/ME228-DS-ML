{
 "cells": [
  {
   "cell_type": "code",
   "execution_count": 1,
   "id": "868f9851",
   "metadata": {
    "_cell_guid": "b1076dfc-b9ad-4769-8c92-a6c4dae69d19",
    "_uuid": "8f2839f25d086af736a60e9eeb907d3b93b6e0e5",
    "execution": {
     "iopub.execute_input": "2024-01-08T18:24:39.435166Z",
     "iopub.status.busy": "2024-01-08T18:24:39.434656Z",
     "iopub.status.idle": "2024-01-08T18:24:39.896163Z",
     "shell.execute_reply": "2024-01-08T18:24:39.894889Z"
    },
    "papermill": {
     "duration": 0.473256,
     "end_time": "2024-01-08T18:24:39.899743",
     "exception": false,
     "start_time": "2024-01-08T18:24:39.426487",
     "status": "completed"
    },
    "tags": []
   },
   "outputs": [],
   "source": [
    "# This Python 3 environment comes with many helpful analytics libraries installed\n",
    "# It is defined by the kaggle/python Docker image: https://github.com/kaggle/docker-python\n",
    "# For example, here's several helpful packages to load\n",
    "\n",
    "import numpy as np # linear algebra\n",
    "import pandas as pd # data processing, CSV file I/O (e.g. pd.read_csv)\n",
    "\n",
    "# Input data files are available in the read-only \"../input/\" directory\n",
    "# For example, running this (by clicking run or pressing Shift+Enter) will list all files under the input directory\n",
    "\n",
    "import os\n",
    "for dirname, _, filenames in os.walk('/kaggle/input'):\n",
    "    for filename in filenames:\n",
    "        print(os.path.join(dirname, filename))\n",
    "\n",
    "# You can write up to 20GB to the current directory (/kaggle/working/) that gets preserved as output when you create a version using \"Save & Run All\" \n",
    "# You can also write temporary files to /kaggle/temp/, but they won't be saved outside of the current session"
   ]
  },
  {
   "cell_type": "markdown",
   "id": "1efdc870",
   "metadata": {
    "papermill": {
     "duration": 0.006696,
     "end_time": "2024-01-08T18:24:39.915123",
     "exception": false,
     "start_time": "2024-01-08T18:24:39.908427",
     "status": "completed"
    },
    "tags": []
   },
   "source": [
    "QUESTION 1"
   ]
  },
  {
   "cell_type": "code",
   "execution_count": 2,
   "id": "1cc233bd",
   "metadata": {
    "execution": {
     "iopub.execute_input": "2024-01-08T18:24:39.928283Z",
     "iopub.status.busy": "2024-01-08T18:24:39.927710Z",
     "iopub.status.idle": "2024-01-08T18:24:39.933231Z",
     "shell.execute_reply": "2024-01-08T18:24:39.931923Z"
    },
    "papermill": {
     "duration": 0.014723,
     "end_time": "2024-01-08T18:24:39.935584",
     "exception": false,
     "start_time": "2024-01-08T18:24:39.920861",
     "status": "completed"
    },
    "tags": []
   },
   "outputs": [],
   "source": [
    "import numpy as np"
   ]
  },
  {
   "cell_type": "code",
   "execution_count": 3,
   "id": "10a0fb4f",
   "metadata": {
    "execution": {
     "iopub.execute_input": "2024-01-08T18:24:39.948421Z",
     "iopub.status.busy": "2024-01-08T18:24:39.948034Z",
     "iopub.status.idle": "2024-01-08T18:24:39.953714Z",
     "shell.execute_reply": "2024-01-08T18:24:39.952525Z"
    },
    "papermill": {
     "duration": 0.014818,
     "end_time": "2024-01-08T18:24:39.956127",
     "exception": false,
     "start_time": "2024-01-08T18:24:39.941309",
     "status": "completed"
    },
    "tags": []
   },
   "outputs": [],
   "source": [
    "V = np.array([[1,-1,1],[1,2,4],[1,1,1]])"
   ]
  },
  {
   "cell_type": "code",
   "execution_count": 4,
   "id": "cffdb24b",
   "metadata": {
    "execution": {
     "iopub.execute_input": "2024-01-08T18:24:39.968825Z",
     "iopub.status.busy": "2024-01-08T18:24:39.968461Z",
     "iopub.status.idle": "2024-01-08T18:24:39.979779Z",
     "shell.execute_reply": "2024-01-08T18:24:39.978740Z"
    },
    "papermill": {
     "duration": 0.020574,
     "end_time": "2024-01-08T18:24:39.982266",
     "exception": false,
     "start_time": "2024-01-08T18:24:39.961692",
     "status": "completed"
    },
    "tags": []
   },
   "outputs": [
    {
     "data": {
      "text/plain": [
       "array([[ 1, -1,  1],\n",
       "       [ 1,  2,  4],\n",
       "       [ 1,  1,  1]])"
      ]
     },
     "execution_count": 4,
     "metadata": {},
     "output_type": "execute_result"
    }
   ],
   "source": [
    "V"
   ]
  },
  {
   "cell_type": "code",
   "execution_count": 5,
   "id": "45ea2b05",
   "metadata": {
    "execution": {
     "iopub.execute_input": "2024-01-08T18:24:39.996207Z",
     "iopub.status.busy": "2024-01-08T18:24:39.995677Z",
     "iopub.status.idle": "2024-01-08T18:24:40.024369Z",
     "shell.execute_reply": "2024-01-08T18:24:40.022872Z"
    },
    "papermill": {
     "duration": 0.042544,
     "end_time": "2024-01-08T18:24:40.030536",
     "exception": false,
     "start_time": "2024-01-08T18:24:39.987992",
     "status": "completed"
    },
    "tags": []
   },
   "outputs": [
    {
     "data": {
      "text/plain": [
       "array([[ 0.33333333, -0.33333333,  1.        ],\n",
       "       [-0.5       ,  0.        ,  0.5       ],\n",
       "       [ 0.16666667,  0.33333333, -0.5       ]])"
      ]
     },
     "execution_count": 5,
     "metadata": {},
     "output_type": "execute_result"
    }
   ],
   "source": [
    "inv = np.linalg.inv(V)\n",
    "inv"
   ]
  },
  {
   "cell_type": "code",
   "execution_count": 6,
   "id": "e147dc67",
   "metadata": {
    "execution": {
     "iopub.execute_input": "2024-01-08T18:24:40.057995Z",
     "iopub.status.busy": "2024-01-08T18:24:40.057042Z",
     "iopub.status.idle": "2024-01-08T18:24:40.065395Z",
     "shell.execute_reply": "2024-01-08T18:24:40.064408Z"
    },
    "papermill": {
     "duration": 0.026713,
     "end_time": "2024-01-08T18:24:40.069398",
     "exception": false,
     "start_time": "2024-01-08T18:24:40.042685",
     "status": "completed"
    },
    "tags": []
   },
   "outputs": [
    {
     "data": {
      "text/plain": [
       "array([[6],\n",
       "       [9],\n",
       "       [2]])"
      ]
     },
     "execution_count": 6,
     "metadata": {},
     "output_type": "execute_result"
    }
   ],
   "source": [
    "f = np.array([[6],[9],[2]])\n",
    "f"
   ]
  },
  {
   "cell_type": "code",
   "execution_count": 7,
   "id": "30021817",
   "metadata": {
    "execution": {
     "iopub.execute_input": "2024-01-08T18:24:40.097067Z",
     "iopub.status.busy": "2024-01-08T18:24:40.096547Z",
     "iopub.status.idle": "2024-01-08T18:24:40.105065Z",
     "shell.execute_reply": "2024-01-08T18:24:40.104033Z"
    },
    "papermill": {
     "duration": 0.028698,
     "end_time": "2024-01-08T18:24:40.110782",
     "exception": false,
     "start_time": "2024-01-08T18:24:40.082084",
     "status": "completed"
    },
    "tags": []
   },
   "outputs": [
    {
     "data": {
      "text/plain": [
       "array([[ 1.],\n",
       "       [-2.],\n",
       "       [ 3.]])"
      ]
     },
     "execution_count": 7,
     "metadata": {},
     "output_type": "execute_result"
    }
   ],
   "source": [
    "np.dot(inv, f)"
   ]
  },
  {
   "cell_type": "markdown",
   "id": "311f983b",
   "metadata": {
    "papermill": {
     "duration": 0.011949,
     "end_time": "2024-01-08T18:24:40.135743",
     "exception": false,
     "start_time": "2024-01-08T18:24:40.123794",
     "status": "completed"
    },
    "tags": []
   },
   "source": [
    "QUESTION 2"
   ]
  },
  {
   "cell_type": "code",
   "execution_count": 8,
   "id": "651497a4",
   "metadata": {
    "execution": {
     "iopub.execute_input": "2024-01-08T18:24:40.151048Z",
     "iopub.status.busy": "2024-01-08T18:24:40.149795Z",
     "iopub.status.idle": "2024-01-08T18:24:40.157979Z",
     "shell.execute_reply": "2024-01-08T18:24:40.156914Z"
    },
    "papermill": {
     "duration": 0.018385,
     "end_time": "2024-01-08T18:24:40.160459",
     "exception": false,
     "start_time": "2024-01-08T18:24:40.142074",
     "status": "completed"
    },
    "tags": []
   },
   "outputs": [],
   "source": [
    "matrix = np.array([[1,10],[1,15],[1,20],[1,25],[1,30],[1,35],[1,40],[1,45],[1,50],[1,55]], dtype=np.float64)"
   ]
  },
  {
   "cell_type": "code",
   "execution_count": 9,
   "id": "2a8bcb72",
   "metadata": {
    "execution": {
     "iopub.execute_input": "2024-01-08T18:24:40.175206Z",
     "iopub.status.busy": "2024-01-08T18:24:40.174405Z",
     "iopub.status.idle": "2024-01-08T18:24:40.182610Z",
     "shell.execute_reply": "2024-01-08T18:24:40.181523Z"
    },
    "papermill": {
     "duration": 0.018236,
     "end_time": "2024-01-08T18:24:40.185044",
     "exception": false,
     "start_time": "2024-01-08T18:24:40.166808",
     "status": "completed"
    },
    "tags": []
   },
   "outputs": [
    {
     "data": {
      "text/plain": [
       "array([[1.0e+00, 1.0e-04],\n",
       "       [1.0e+00, 1.5e-04],\n",
       "       [1.0e+00, 2.0e-04],\n",
       "       [1.0e+00, 2.5e-04],\n",
       "       [1.0e+00, 3.0e-04],\n",
       "       [1.0e+00, 3.5e-04],\n",
       "       [1.0e+00, 4.0e-04],\n",
       "       [1.0e+00, 4.5e-04],\n",
       "       [1.0e+00, 5.0e-04],\n",
       "       [1.0e+00, 5.5e-04]])"
      ]
     },
     "execution_count": 9,
     "metadata": {},
     "output_type": "execute_result"
    }
   ],
   "source": [
    "matrix[:,1] *= 10e-6\n",
    "matrix"
   ]
  },
  {
   "cell_type": "code",
   "execution_count": 10,
   "id": "812c3bf2",
   "metadata": {
    "execution": {
     "iopub.execute_input": "2024-01-08T18:24:40.200167Z",
     "iopub.status.busy": "2024-01-08T18:24:40.199389Z",
     "iopub.status.idle": "2024-01-08T18:24:40.207819Z",
     "shell.execute_reply": "2024-01-08T18:24:40.206753Z"
    },
    "papermill": {
     "duration": 0.018787,
     "end_time": "2024-01-08T18:24:40.210294",
     "exception": false,
     "start_time": "2024-01-08T18:24:40.191507",
     "status": "completed"
    },
    "tags": []
   },
   "outputs": [
    {
     "data": {
      "text/plain": [
       "array([[1.        , 0.01      ],\n",
       "       [1.        , 0.01224745],\n",
       "       [1.        , 0.01414214],\n",
       "       [1.        , 0.01581139],\n",
       "       [1.        , 0.01732051],\n",
       "       [1.        , 0.01870829],\n",
       "       [1.        , 0.02      ],\n",
       "       [1.        , 0.0212132 ],\n",
       "       [1.        , 0.02236068],\n",
       "       [1.        , 0.02345208]])"
      ]
     },
     "execution_count": 10,
     "metadata": {},
     "output_type": "execute_result"
    }
   ],
   "source": [
    "np.sqrt(matrix, where=[False, True],out=matrix)"
   ]
  },
  {
   "cell_type": "code",
   "execution_count": 11,
   "id": "b9030cef",
   "metadata": {
    "execution": {
     "iopub.execute_input": "2024-01-08T18:24:40.229810Z",
     "iopub.status.busy": "2024-01-08T18:24:40.228923Z",
     "iopub.status.idle": "2024-01-08T18:24:40.249080Z",
     "shell.execute_reply": "2024-01-08T18:24:40.246245Z"
    },
    "papermill": {
     "duration": 0.03523,
     "end_time": "2024-01-08T18:24:40.251954",
     "exception": false,
     "start_time": "2024-01-08T18:24:40.216724",
     "status": "completed"
    },
    "tags": []
   },
   "outputs": [
    {
     "data": {
      "text/plain": [
       "array([[ 8.38701801e-01,  6.18094756e-01,  4.32114414e-01,\n",
       "         2.68262444e-01,  1.20128940e-01, -1.60938764e-02,\n",
       "        -1.42886982e-01, -2.61973670e-01, -3.74608661e-01,\n",
       "        -4.81739165e-01],\n",
       "       [-4.21499372e+01, -2.95622150e+01, -1.89502743e+01,\n",
       "        -9.60096678e+00, -1.14854673e+00,  6.62425569e+00,\n",
       "         1.38590038e+01,  2.06540277e+01,  2.70809212e+01,\n",
       "         3.31937316e+01]])"
      ]
     },
     "execution_count": 11,
     "metadata": {},
     "output_type": "execute_result"
    }
   ],
   "source": [
    "inv = np.linalg.pinv(matrix)\n",
    "inv"
   ]
  },
  {
   "cell_type": "code",
   "execution_count": 12,
   "id": "0eda8e55",
   "metadata": {
    "execution": {
     "iopub.execute_input": "2024-01-08T18:24:40.271060Z",
     "iopub.status.busy": "2024-01-08T18:24:40.270271Z",
     "iopub.status.idle": "2024-01-08T18:24:40.278921Z",
     "shell.execute_reply": "2024-01-08T18:24:40.277823Z"
    },
    "papermill": {
     "duration": 0.020575,
     "end_time": "2024-01-08T18:24:40.281815",
     "exception": false,
     "start_time": "2024-01-08T18:24:40.261240",
     "status": "completed"
    },
    "tags": []
   },
   "outputs": [
    {
     "data": {
      "text/plain": [
       "array([[65. ],\n",
       "       [55.5],\n",
       "       [52. ],\n",
       "       [48. ],\n",
       "       [46. ],\n",
       "       [43. ],\n",
       "       [42.5],\n",
       "       [40.5],\n",
       "       [40. ],\n",
       "       [38. ]])"
      ]
     },
     "execution_count": 12,
     "metadata": {},
     "output_type": "execute_result"
    }
   ],
   "source": [
    "sigma = np.array([[65],[55.5],[52],[48],[46],[43],[42.5],[40.5],[40],[38]])\n",
    "sigma"
   ]
  },
  {
   "cell_type": "code",
   "execution_count": 13,
   "id": "118e5971",
   "metadata": {
    "execution": {
     "iopub.execute_input": "2024-01-08T18:24:40.297763Z",
     "iopub.status.busy": "2024-01-08T18:24:40.296977Z",
     "iopub.status.idle": "2024-01-08T18:24:40.304392Z",
     "shell.execute_reply": "2024-01-08T18:24:40.303438Z"
    },
    "papermill": {
     "duration": 0.01912,
     "end_time": "2024-01-08T18:24:40.307727",
     "exception": false,
     "start_time": "2024-01-08T18:24:40.288607",
     "status": "completed"
    },
    "tags": []
   },
   "outputs": [
    {
     "data": {
      "text/plain": [
       "array([[   79.0272523],\n",
       "       [-1824.6052418]])"
      ]
     },
     "execution_count": 13,
     "metadata": {},
     "output_type": "execute_result"
    }
   ],
   "source": [
    "np.dot(inv,sigma)"
   ]
  }
 ],
 "metadata": {
  "kaggle": {
   "accelerator": "none",
   "dataSources": [],
   "dockerImageVersionId": 30626,
   "isGpuEnabled": false,
   "isInternetEnabled": false,
   "language": "python",
   "sourceType": "notebook"
  },
  "kernelspec": {
   "display_name": "Python 3",
   "language": "python",
   "name": "python3"
  },
  "language_info": {
   "codemirror_mode": {
    "name": "ipython",
    "version": 3
   },
   "file_extension": ".py",
   "mimetype": "text/x-python",
   "name": "python",
   "nbconvert_exporter": "python",
   "pygments_lexer": "ipython3",
   "version": "3.10.12"
  },
  "papermill": {
   "default_parameters": {},
   "duration": 5.125948,
   "end_time": "2024-01-08T18:24:40.839428",
   "environment_variables": {},
   "exception": null,
   "input_path": "__notebook__.ipynb",
   "output_path": "__notebook__.ipynb",
   "parameters": {},
   "start_time": "2024-01-08T18:24:35.713480",
   "version": "2.4.0"
  }
 },
 "nbformat": 4,
 "nbformat_minor": 5
}
